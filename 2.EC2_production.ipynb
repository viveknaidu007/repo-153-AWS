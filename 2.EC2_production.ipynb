{
 "cells": [
  {
   "cell_type": "code",
   "execution_count": null,
   "metadata": {},
   "outputs": [],
   "source": [
    "# for uploading ur project folder to server :\n",
    "\n",
    "# syntax:\n",
    "scp -r -i \"key\" REMOTE_SERVER:~/\n",
    "\n",
    "#demo \n",
    "scp -r -i \"urpemkey.pem\" project-folder ubuntu@ec2-43-204-132-73.ap-south-1.compute.amazonaws.com:~/\n"
   ]
  },
  {
   "cell_type": "code",
   "execution_count": null,
   "metadata": {},
   "outputs": [],
   "source": [
    "ls\n",
    "cd folder\n",
    "ls\n",
    "sudo apt install pip , if needed\n",
    "python3 -m pipx ensurepath\n",
    "\n",
    "\n",
    "# Step 1: Install the virtual environment package if not already installed\n",
    "sudo apt update\n",
    "sudo apt install python3-venv\n",
    "\n",
    "# Step 2: Create a virtual environment (you can change \"venv\" to any folder name)\n",
    "python3 -m venv venv\n",
    "\n",
    "# Step 3: Activate the virtual environment\n",
    "source venv/bin/activate\n",
    "\n",
    "# Step 4: Install the requirements in the virtual environment\n",
    "pip install -r requirements.txt\n"
   ]
  },
  {
   "cell_type": "code",
   "execution_count": null,
   "metadata": {},
   "outputs": [],
   "source": [
    "# nginix \n",
    "sudo apt install nginx\n",
    "\n",
    "# For Nginx\n",
    "sudo systemctl start nginx\n",
    "sudo systemctl enable nginx\n",
    "\n",
    "#. Create an Nginx Configuration File\"\n",
    "sudo nano /etc/nginx/sites-available/flask_app\n",
    "\n",
    "#\n",
    "server {\n",
    "    listen 80;\n",
    "    server_name your_server_ip;  # Replace with your server's IP\n",
    "\n",
    "    location / {\n",
    "        proxy_pass http://127.0.0.1:5001;  # Forward to Flask app\n",
    "        proxy_set_header Host remote_addr;\n",
    "        proxy_set_header X-Forwarded-For proxy_add_x_forwarded_for; proxy_set_header X-Forwarded-Proto scheme;\n",
    "    }\n",
    "}\n",
    "\n",
    "#\n",
    "\"5. enable the configuration:\"\n",
    "sudo ln -s /etc/nginx/sites-available/flask_app /etc/ng inx/sites-enabled/\n",
    "\n",
    "\n",
    "\n",
    "\"6. Test Nginx Configuration\"\n",
    "sudo nginx -t\n",
    "\n",
    "\"7.restart Nginx\"\n",
    "sudo systemctl restart nginx\n",
    "\n",
    "\"now we can access \"\n",
    "http://your_server_ip\n",
    "\n",
    "\n",
    "\"run ur project or flask app\"\n",
    "python3 app.py\n",
    "gunicorn -w 4 -b 0.0.0.0:5001 app:app\n",
    "\n",
    "\n"
   ]
  }
 ],
 "metadata": {
  "language_info": {
   "name": "python"
  }
 },
 "nbformat": 4,
 "nbformat_minor": 2
}
