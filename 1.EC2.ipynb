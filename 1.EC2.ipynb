{
 "cells": [
  {
   "cell_type": "code",
   "execution_count": null,
   "metadata": {},
   "outputs": [],
   "source": [
    "# select ur region frist:\n",
    "\n",
    "\n",
    "# go to the ec2 in aws :\n",
    "\n",
    "https://us-east-1.console.aws.amazon.com/ec2/home?region=us-east-1#Home:\n",
    "\n",
    "# click on instances :\n",
    "\n",
    "https://us-east-1.console.aws.amazon.com/ec2/home?region=us-east-1#Instances:\n",
    "\n",
    "\n",
    "# click on Launch Instances :\n",
    "\n",
    "# give any name\n",
    "\n",
    "# now we have select Operating System :\n",
    "we have to select ram\n",
    "we have to select hard drive\n",
    "select \"ubuntu\" (it provides linux OS) it was populor\n",
    "\n",
    "#Instance Type :\n",
    "select t2micro , t2 nano , etc based on ur project and requiremenet\n",
    "\n",
    "\n",
    "#KeyPair (login):\n",
    "we will connect with our local machine to aws instance\n",
    "with either SCP or SSH\n",
    "click on \"Create new key pair\" and give a name and generate \"it will be generate\"\n",
    "click on \"Launch Instance\"\n"
   ]
  },
  {
   "cell_type": "code",
   "execution_count": null,
   "metadata": {},
   "outputs": [],
   "source": [
    "# Elastic Id and Dynamic IP:\n",
    "\n",
    "#Dynamic IP:\n",
    "* whenevr we create an instance it will be default dynamic ip \n",
    "it means , if we stop or restart the instance , it will generate new public ip address , we can only use new ip address to see our porject in web\n",
    "\n",
    "#Elastic IP :\n",
    "*so in our production , its better to use elatic ip for not facing errror\n",
    "\n",
    "* steps to add elastic ip:\n",
    " "
   ]
  },
  {
   "cell_type": "code",
   "execution_count": null,
   "metadata": {},
   "outputs": [],
   "source": [
    "#now i have to allow incoming traffic"
   ]
  },
  {
   "cell_type": "code",
   "execution_count": 1,
   "metadata": {},
   "outputs": [],
   "source": [
    "# now go to the \"Network & Security\" Tab :\n",
    "\n",
    "# click on \"Security Groups\"\n",
    "\n",
    "# click on \"Create security group\"\n",
    "\n",
    "\"Basic details\":\n",
    "give security group name\n",
    "given Description\n",
    "\n",
    "# now do you need people to come inside ur server and use ur website ?\n",
    "# we have to create \"inboud rules\" , if you didnt create \"inbound rule\" it wont allow anyone to use website\n",
    "# so inboud rules must to create\n",
    "# we have to allow HTTP\n",
    "# for now im currenlty givin \"all trafiic\"\n",
    "\n",
    "\"type\" : All traffic\n",
    "\"Source\" : anywhere 0.0.0.0/0\n",
    "\n",
    "click on create :"
   ]
  },
  {
   "cell_type": "code",
   "execution_count": null,
   "metadata": {},
   "outputs": [],
   "source": [
    "# so wheneve we created this new security group , we have to add this to our instance:\n",
    "\n",
    "# navigate to the \"network & Security\":\n",
    "\n",
    "# click on \"network interfaces\"\n",
    "\n",
    "# you will see \"Network interface ID\"\n",
    "\n",
    "# right click on it \"change security groups\" , and here add ur created security group\n",
    "\n",
    "# and click on save"
   ]
  },
  {
   "cell_type": "code",
   "execution_count": null,
   "metadata": {},
   "outputs": [],
   "source": [
    "# Elastic Id and Dynamic IP:\n",
    "\n",
    "#Dynamic IP:\n",
    "* whenevr we create an instance it will be default dynamic ip \n",
    "it means , if we stop or restart the instance , it will generate new public ip address , we can only use new ip address to see our porject in web\n",
    "\n",
    "#Elastic IP :\n",
    "*so in our production , its better to use elatic ip for not facing errror\n",
    "\n",
    "* steps to add elastic ip:\n",
    " \n",
    "\n",
    "    \"\"\"\n",
    "    \n",
    "    \"\"\""
   ]
  },
  {
   "cell_type": "markdown",
   "metadata": {},
   "source": [
    "# Adding Elastic IP"
   ]
  },
  {
   "cell_type": "markdown",
   "metadata": {},
   "source": [
    "To assign an **Elastic IP** to your EC2 instance, follow these steps:\n",
    "\n",
    "### 1. **Allocate an Elastic IP**:\n",
    "   You need to first allocate an Elastic IP address before you can assign it to your EC2 instance.\n",
    "\n",
    "#### Using AWS Management Console:\n",
    "1. Go to the **EC2 Dashboard** in the AWS Management Console.\n",
    "2. In the left sidebar, under **Network & Security**, click on **Elastic IPs**.\n",
    "3. Click **Allocate Elastic IP address**.\n",
    "4. Choose **Amazon's pool of IPv4 addresses** and click **Allocate**.\n",
    "5. You will now see your newly allocated Elastic IP in the list.\n",
    "\n",
    "### 2. **Associate the Elastic IP to Your EC2 Instance**:\n",
    "Once the Elastic IP is allocated, you need to associate it with your instance.\n",
    "\n",
    "#### Using AWS Management Console:\n",
    "1. In the **Elastic IPs** section (where you allocated the Elastic IP), select the newly allocated IP.\n",
    "2. Click on **Actions** and select **Associate Elastic IP address**.\n",
    "3. In the **Associate Elastic IP address** page:\n",
    "   - Under **Resource type**, choose **Instance**.\n",
    "   - In **Instance**, select the instance you want to associate the Elastic IP with.\n",
    "   - Under **Private IP**, choose the private IP address of the instance (if there is more than one private IP associated).\n",
    "4. Click **Associate**.\n",
    "\n",
    "### 3. **Verify the Elastic IP**:\n",
    "   - Go back to the **Instances** section in the EC2 Dashboard.\n",
    "   - Select your instance and look under the **Description** tab.\n",
    "   - You should now see the Elastic IP listed as the **Public IPv4 address**.\n",
    "\n",
    "### 4. **Release Elastic IP (Optional)**:\n",
    "   If you no longer need the Elastic IP, you can release it to avoid any unnecessary charges.\n",
    "   - Go to **Elastic IPs** in the EC2 Dashboard.\n",
    "   - Select the Elastic IP you want to release.\n",
    "   - Click on **Actions** and select **Release Elastic IP address**.\n",
    "\n",
    "> **Note:** Elastic IPs are free while associated with a running instance, but AWS charges for unused Elastic IPs.\n",
    "\n",
    "#### Using AWS CLI:\n",
    "You can also do this using the AWS CLI:\n",
    "\n",
    "1. **Allocate an Elastic IP**:\n",
    "   ```bash\n",
    "   aws ec2 allocate-address --domain vpc\n",
    "   ```\n",
    "\n",
    "   This will return the `AllocationId` of the new Elastic IP.\n",
    "\n",
    "2. **Associate the Elastic IP** to your instance:\n",
    "   ```bash\n",
    "   aws ec2 associate-address --instance-id <instance-id> --allocation-id <allocation-id>\n",
    "   ```\n",
    "\n",
    "   Replace `<instance-id>` and `<allocation-id>` with your instance and allocation IDs respectively.\n",
    "\n",
    "Now, your instance will have a permanent public IP (Elastic IP) that won't change even if the instance is stopped and restarted."
   ]
  },
  {
   "cell_type": "code",
   "execution_count": null,
   "metadata": {},
   "outputs": [],
   "source": [
    "# ********************************************"
   ]
  },
  {
   "cell_type": "markdown",
   "metadata": {},
   "source": [
    "# adding SECURITY GROUP PORT 80 , 443 "
   ]
  },
  {
   "cell_type": "markdown",
   "metadata": {},
   "source": [
    "To allow inbound traffic on ports 80 (HTTP) and 443 (HTTPS) in AWS, you'll need to configure the security group associated with your EC2 instance or load balancer. Here’s how you can do this:\n",
    "\n",
    "### Step-by-Step Guide to Allow Inbound Traffic on Ports 80 and 443\n",
    "\n",
    "1. **Log in to the AWS Management Console**:\n",
    "   - Go to the [AWS Management Console](https://aws.amazon.com/console/).\n",
    "\n",
    "2. **Navigate to EC2**:\n",
    "   - Select **EC2** from the Services menu.\n",
    "\n",
    "3. **Find Your Security Group**:\n",
    "   - In the left sidebar, click on **Security Groups** under the **Network & Security** section.\n",
    "   - Locate the security group associated with your EC2 instance. If you’re using an Elastic Load Balancer, locate the relevant security group for it.\n",
    "\n",
    "4. **Edit Inbound Rules**:\n",
    "   - Select the security group and click on the **Inbound rules** tab.\n",
    "   - Click the **Edit inbound rules** button.\n",
    "\n",
    "5. **Add Rules for HTTP and HTTPS**:\n",
    "   - Click **Add rule**.\n",
    "     - **Type**: Select **HTTP** from the dropdown (this will automatically set the port to 80).\n",
    "     - **Source**: Choose **Anywhere** (0.0.0.0/0) for public access or restrict to a specific IP address or CIDR block if you want to limit access.\n",
    "   - Click **Add rule** again.\n",
    "     - **Type**: Select **HTTPS** (this will automatically set the port to 443).\n",
    "     - **Source**: Same as above, choose **Anywhere** (0.0.0.0/0) or specify a CIDR block.\n",
    "\n",
    "6. **Save Rules**:\n",
    "   - After adding both rules, click on **Save rules** to apply the changes.\n",
    "\n",
    "### Example Inbound Rules\n",
    "- **HTTP**: \n",
    "  - Type: HTTP\n",
    "  - Protocol: TCP\n",
    "  - Port: 80\n",
    "  - Source: 0.0.0.0/0 (or your specific IP range)\n",
    "\n",
    "- **HTTPS**: \n",
    "  - Type: HTTPS\n",
    "  - Protocol: TCP\n",
    "  - Port: 443\n",
    "  - Source: 0.0.0.0/0 (or your specific IP range)\n",
    "\n",
    "### Additional Considerations\n",
    "- **NAT Gateway or VPC**: If your EC2 instance is in a private subnet and needs to access the internet, make sure your VPC and NAT gateway are properly configured.\n",
    "- **Network ACLs**: Ensure that your network ACLs (NACLs) are also configured to allow inbound traffic on these ports if they are being used.\n",
    "\n",
    "Once you've set up the inbound rules, your EC2 instance should be accessible via HTTP and HTTPS. If you have any further questions or need help with a specific setup, feel free to ask!"
   ]
  },
  {
   "cell_type": "code",
   "execution_count": null,
   "metadata": {},
   "outputs": [],
   "source": [
    "#**********************************************************************************"
   ]
  },
  {
   "cell_type": "markdown",
   "metadata": {},
   "source": [
    "# connecting to instance :"
   ]
  },
  {
   "cell_type": "code",
   "execution_count": null,
   "metadata": {},
   "outputs": [],
   "source": [
    "#below is for uploading ur project fodler\n",
    "scp -r -i \"key\" REMOTE_SERVER:~/\n",
    "\n",
    "\n",
    "-r = reversively copy entire directory & its content\n",
    "\"key\" = identity .pem key\n",
    "REMOTE_SERVER = address of remote server\n",
    "~/ = Destination on remote server ~/ Home\n",
    "\n"
   ]
  },
  {
   "cell_type": "markdown",
   "metadata": {},
   "source": [
    "# Commands:"
   ]
  },
  {
   "cell_type": "code",
   "execution_count": null,
   "metadata": {},
   "outputs": [],
   "source": [
    "ls\n",
    "pwd\n",
    "sudo apt update\n",
    "sudo apt upgrade , press \"Y\"\n",
    "sudo apt install python3-pip\n",
    "python3 -V\n",
    "df -h \n",
    "cd projectfolder\n",
    "ls\n",
    "pip3 install -r requirments.txt\n",
    "python3 app.py\n",
    "ctrl + c , for stopping\n",
    "nohup python3 app.py\n",
    "top\n",
    "kill pwdid \n",
    "\n",
    "\n",
    "\n",
    "# sudo = super user do\n",
    "# nohup = no \n",
    "# top = it wil list running with personal id\n",
    "# kill pwdid = it will kill the running project"
   ]
  }
 ],
 "metadata": {
  "kernelspec": {
   "display_name": "video",
   "language": "python",
   "name": "python3"
  },
  "language_info": {
   "codemirror_mode": {
    "name": "ipython",
    "version": 3
   },
   "file_extension": ".py",
   "mimetype": "text/x-python",
   "name": "python",
   "nbconvert_exporter": "python",
   "pygments_lexer": "ipython3",
   "version": "3.10.14"
  }
 },
 "nbformat": 4,
 "nbformat_minor": 2
}
